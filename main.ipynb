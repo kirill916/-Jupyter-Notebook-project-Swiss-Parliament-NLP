{
 "cells": [
  {
   "cell_type": "markdown",
   "metadata": {},
   "source": [
    "Importing libraries and definition of download functions"
   ]
  },
  {
   "cell_type": "code",
   "execution_count": 1,
   "metadata": {},
   "outputs": [],
   "source": [
    "import requests\n",
    "import glob\n",
    "import time\n",
    "from datetime import datetime as dt\n",
    "import pandas as pd\n",
    "import os\n",
    "import logging\n",
    "import matplotlib.pyplot as plt\n",
    "import re\n",
    "from scipy.stats import pearsonr\n",
    "import statsmodels.formula.api as smf\n",
    "from PIL import Image\n",
    "import matplotlib.pyplot as plt\n",
    "from wordcloud import WordCloud\n",
    "logging.basicConfig(filename='twitter_tweets.log', filemode='a', format='%(asctime)s - %(message)s - %(name)s - %(levelname)s', level=logging.INFO)\n",
    "def bearer_oauth(r):\n",
    "    bearer_token=''#bearer token\n",
    "    r.headers[\"Authorization\"] = f\"Bearer {bearer_token}\"\n",
    "    r.headers[\"User-Agent\"] = \"v2FullArchiveSearchPython\"\n",
    "    return r\n",
    "def download(df,next_page=None): #tweets download function\n",
    "    keywords='(umweltschutz OR nachhaltigkeit OR Abfallwirtschaft OR abfallentsorgung OR sustainability OR ESG OR umwelt OR nachhaltig OR nachhaltiger OR erneubar\\\n",
    "    OR erneubar OR klimawandel OR klima OR sdg)'#\n",
    "    fields='author_id,public_metrics,created_at'\n",
    "    params = {'query': f'{keywords} lang:de', 'max_results':500, 'tweet.fields':fields, 'start_time':'2022-04-15T15:50:36.000Z'}\n",
    "    search_url = \"https://api.twitter.com/2/tweets/search/all\"\n",
    "    if next_page!=None:\n",
    "        params = {'query': f'{keywords} lang:de', 'max_results':500, 'tweet.fields':fields, 'start_time':'2022-04-15T15:50:36.000Z'}\n",
    "    else:\n",
    "        params = {'query': f'{keywords} lang:de', 'max_results':500, 'tweet.fields':fields, 'start_time':'2022-04-15T15:50:36.000Z','pagination_token': next_page}\n",
    "    while True:\n",
    "        response = requests.request(\"GET\", search_url, auth=bearer_oauth, params=params )\n",
    "        if response.status_code != 200:\n",
    "            logging.error(f'download failed   with status code {response.status_code}\\n{response.text}')\n",
    "            if response.status_code==429:\n",
    "                wait_time=int(response.headers['x-rate-limit-reset'])-round(dt.now().timestamp())+2\n",
    "                reset_time=response.headers['x-rate-limit-reset']\n",
    "                logging.error(f'Status code is 429, sleeping for {wait_time} seconds until {reset_time}')\n",
    "                time.sleep(wait_time)\n",
    "                continue\n",
    "            time.sleep(50)\n",
    "            continue\n",
    "        else:break\n",
    "    \n",
    "    df=pd.concat([df,pd.DataFrame(response.json()['data'])])\n",
    "    try:\n",
    "        next_token=response.json()['meta']['next_token']\n",
    "        time.sleep(20)\n",
    "        df.to_csv(f'main_tweets.csv')\n",
    "        logging.info(f'continuing download of tweets, next page token {next_token}')\n",
    "        return download(df, next_page=next_token)\n",
    "    except KeyError:\n",
    "        df.to_csv(f'main_tweets.csv')\n",
    "        return df\n",
    "\n",
    "def download(df,acc_id,next_page=None):#followers download\n",
    "    def bearer_oauth(r):\n",
    "        bearer_token=''\n",
    "        r.headers[\"Authorization\"] = f\"Bearer {bearer_token}\"\n",
    "        r.headers[\"User-Agent\"] = \"v2FullArchiveSearchPython\"\n",
    "        return r\n",
    "    if next_page!=None:\n",
    "        params = {'max_results': '1000','pagination_token': next_page}\n",
    "    else:\n",
    "        params = {'max_results': '1000','pagination_token': next_page}\n",
    "    search_url = f\"https://api.twitter.com/2/users/{acc_id}/followers\"\n",
    "    while True:\n",
    "        response = requests.request(\"GET\", search_url, auth=bearer_oauth, params=params )\n",
    "        if response.status_code != 200:\n",
    "            logging.error(f'download failed for acc_id {acc_id} with status code {response.status_code}\\n{response.text}')\n",
    "            if response.status_code==429:\n",
    "                wait_time=int(response.headers['x-rate-limit-reset'])-round(dt.now().timestamp())+2\n",
    "                reset_time=response.headers['x-rate-limit-reset']\n",
    "                logging.error(f'Status code is 429, sleeping for {wait_time} seconds until {reset_time}')\n",
    "                time.sleep(wait_time)\n",
    "                continue\n",
    "            time.sleep(50)\n",
    "            continue\n",
    "        else:break\n",
    "    \n",
    "    df=pd.concat([df,pd.DataFrame(response.json()['data']).drop(['name','username'], axis=1)])\n",
    "    try:\n",
    "        next_token=response.json()['meta']['next_token']\n",
    "        time.sleep(20)\n",
    "        df[acc_id]=1\n",
    "        df.to_csv(f'tweet_follows/{acc_id}.csv')\n",
    "        logging.info(f'continuing download of followers from {acc_id} next page token {next_token}')\n",
    "        return download(df,acc_id, next_page=next_token)\n",
    "    except KeyError:\n",
    "        df[acc_id]=1\n",
    "        df.to_csv(f'tweet_follows/{acc_id}.csv')\n",
    "        return df\n",
    "df=pd.DataFrame()\n",
    "\n",
    "\n"
   ]
  },
  {
   "cell_type": "markdown",
   "metadata": {},
   "source": [
    "R code to download from parliamentary databases ( resulting frames 'business.csv' and 'sessions.csv')"
   ]
  },
  {
   "cell_type": "code",
   "execution_count": null,
   "metadata": {},
   "outputs": [],
   "source": [
    "swissparl::get_data(\n",
    "table = \"Business\", #or 'Transcript'\n",
    " SubmissionDate = c(\">2021-12-31\", \"<2022-05-08\"), \n",
    " Language = \"DE\"))"
   ]
  },
  {
   "cell_type": "markdown",
   "metadata": {},
   "source": [
    "Merging followers with thematic tweets frames"
   ]
  },
  {
   "cell_type": "code",
   "execution_count": null,
   "metadata": {},
   "outputs": [],
   "source": [
    "\n",
    "df=pd.DataFrame()\n",
    "for x in glob.glob('tweet_follows/*'):#folder where tweet followers of media outlets are stored\n",
    "    if os.path.basename(x)=='14273050.csv':continue\n",
    "    df=pd.concat([df,pd.read_csv(x)])\n",
    "df=pd.DataFrame(df['id'].unique())\n",
    "bank=pd.read_csv('tweets_bank_CH.csv')\n",
    "edu=pd.concat([pd.read_csv('tweets_edu_CH.csv'),pd.read_csv('tweets_edu_CH1.csv')]).drop_duplicates('id')\n",
    "bank=pd.merge(df,bank,left_on=0,right_on='author_id', how='inner')\n",
    "bank['created_at']=pd.to_datetime(bank['created_at'])\n",
    "bank['created_at']=bank.apply(lambda x: x['created_at'].to_period('M'),axis=1)\n",
    "edu=pd.merge(df,edu,left_on=0,right_on='author_id', how='inner')\n",
    "edu['created_at']=pd.to_datetime(edu['created_at'])\n",
    "edu['created_at']=edu.apply(lambda x: x['created_at'].to_period('M'),axis=1)\n",
    "#edu.to_csv('edu_final.csv')\n",
    "#bank.to_csv('bank_final.csv')\n",
    "\n"
   ]
  },
  {
   "cell_type": "markdown",
   "metadata": {},
   "source": [
    "Looking for words in parliamentary texts"
   ]
  },
  {
   "cell_type": "code",
   "execution_count": null,
   "metadata": {},
   "outputs": [],
   "source": [
    "bank_dict='[Bb]ankengesetz|[Pp]fandbriefgesetz|[Kk]ollektivanlagegesetz|[Ff]inanzinstitutgesetz|[Ff]inIA|[Ff]inanzmarktinfrastrukturgesetz|[Ff]inanzdienstleistungsgesetz|[Ff]IDLEG|[Gg]eldwäschereigesetz|[Gg]eldwäscherei|[Ee]igenmittelverordnung|[Ff]INMA|[Ss]ystemrelevante Banken|[Ff]inanzmarktregulierung|[Ll]iquiditätsanforderungen|[Ll]iquiditätsausstattung|[Ll]iquiditätsverordnung|[Ll]iqV|[Tt]oo big to fail|[Bb]CBS|[Bb]asler Ausschuss für Bankenaufsicht|[Bb]ankeninsolvenz|[Vv]erschuldungsquote|[Ll]everage Ratio|[Rr]isikogewichtete Aktiven|[Cc]ET1|[Pp]ufferanforderungen|[Rr]WA|[Rr]isk weighted assets|[Ss]IB|[Kk]asino-Kapitalismus|[Bb]asel III'\n",
    "edu_dict='[Bb]ildungssystem|[Bb]ildungsrat|[Bb]ildungswesen|[Bb]ildungsausgaben|[Bb]ildungsförderung|[Ss]chulpflicht|[Ss]chulobligatorium|[Ll]ehrplan 21|[Dd]-EDK|[Ee]DK|[Bb]ildungsgesetz|[Ss]chulgesetz|[Gg]rundbildung|[Ss]onderschule|[Pp]ISA-Studie|[Pp]ISA Studie|[Vv]olksschulgesetz|[Bb]ildungsraum|[Ss]chulungsverantwortung|[Bb]ildungspflicht|[Ss]chulmodelle'\n",
    "\n",
    "def fix_um(strr):\n",
    "    if type(strr)!=str:return\n",
    "    strr=strr.replace('<U+00F6>','ö')\n",
    "    strr=strr.replace('<U+00E4>','ä')\n",
    "    return strr\n",
    "\n",
    "edu=pd.read_csv('edu_final.csv')\n",
    "bank=pd.read_csv('bank_final.csv')\n",
    "trans=pd.concat([pd.read_csv('2010-2015.csv',encoding_errors='ignore'),pd.read_csv('2016-2022.csv',encoding_errors='ignore')])\n",
    "trans=pd.concat([trans,pd.read_csv('2016.csv',encoding_errors='ignore')])\n",
    "busi=pd.read_csv('business.csv',encoding_errors='ignore')\n",
    "sess=pd.read_csv('sessions.csv',encoding_errors='ignore')\n",
    "st=set(['Motion', 'Postulat', 'Interpellation','Fragestunde. Frage', 'Dringliche Interpellation','Dringliche Anfrage','Anfrage'])\n",
    "busi['dummy']=busi.apply(lambda x : 1 if x['BusinessTypeName'] in st else 0, axis=1)\n",
    "busi=busi[busi['dummy']==1]\n",
    "busi['SubmittedText']=busi.apply(lambda x:str(x['SubmittedText']),axis=1)\n",
    "trans['Text']=trans.apply(lambda x:str(x['Text']),axis=1)\n",
    "busi['SubmittedText']=busi.apply(lambda x: fix_um(x['SubmittedText']),axis=1)\n",
    "trans['Text']=trans.apply(lambda x: fix_um(x['Text']),axis=1)\n",
    "busi['edu']=busi.apply(lambda x:1 if re.search(edu_dict,x['SubmittedText'])!=None else 0,axis=1)\n",
    "busi['bank']=busi.apply(lambda x:1 if re.search(bank_dict,x['SubmittedText'])!=None else 0,axis=1)\n",
    "trans['edu']=trans.apply(lambda x:1 if re.search(edu_dict,x['Text'])!=None else 0,axis=1)\n",
    "trans['bank']=trans.apply(lambda x:1 if re.search(bank_dict,x['Text'])!=None else 0,axis=1)"
   ]
  },
  {
   "cell_type": "code",
   "execution_count": 94,
   "metadata": {},
   "outputs": [
    {
     "data": {
      "text/plain": [
       "'<pd_text><p>Herr Bundesrat, ich möchte Ihnen eine Frage stellen, damit Sie Ihre Aussagen zum \"Too big to fail\" noch etwas genauer ausfhren. Sie mögen sich erinnern: In den Jahren 2002 und 2003 machte die Credit Suisse eine ganz schwierige Zeit durch. Es bestand die Gefahr des Scheiterns. Damals wurde \"Too big to fail\" nicht diskutiert. Jetzt macht die UBS eine schwierige Zeit durch, und jetzt wird es diskutiert. Können Sie mir erklären, was die Unterschiede sind?</p>\\r\\n</pd_text>'"
      ]
     },
     "execution_count": 94,
     "metadata": {},
     "output_type": "execute_result"
    }
   ],
   "source": [
    "trans[trans['bank']==1]['Text'].to_list()[random.randint(0,len(trans[trans['bank']==1]['Text'].to_list()))]"
   ]
  },
  {
   "cell_type": "markdown",
   "metadata": {},
   "source": [
    "Calculating word frequencies"
   ]
  },
  {
   "cell_type": "code",
   "execution_count": 35,
   "metadata": {},
   "outputs": [
    {
     "data": {
      "text/plain": [
       "{'Bankengesetz': 346,\n",
       " 'Pfandbriefgesetz': 6,\n",
       " 'Kollektivanlagegesetz': 1,\n",
       " 'Finanzinstitutgesetz': 0,\n",
       " 'FinIA': 0,\n",
       " 'Finanzmarktinfrastrukturgesetz': 127,\n",
       " 'Finanzdienstleistungsgesetz': 120,\n",
       " 'FIDLEG': 24,\n",
       " 'Geldwäschereigesetz': 509,\n",
       " 'Geldwäscherei': 1544,\n",
       " 'Eigenmittelverordnung': 54,\n",
       " 'FINMA': 641,\n",
       " 'Systemrelevante Banken': 89,\n",
       " 'Finanzmarktregulierung': 33,\n",
       " 'Liquiditätsanforderungen': 9,\n",
       " 'Liquiditätsausstattung': 0,\n",
       " 'Liquiditätsverordnung': 3,\n",
       " 'LiqV': 0,\n",
       " 'Too big to fail': 776,\n",
       " 'BCBS': 7,\n",
       " 'Basler Ausschuss für Bankenaufsicht': 2,\n",
       " 'Bankeninsolvenz': 38,\n",
       " 'Verschuldungsquote': 26,\n",
       " 'Leverage Ratio': 46,\n",
       " 'Risikogewichtete Aktiven': 0,\n",
       " 'CET1': 0,\n",
       " 'Pufferanforderungen': 0,\n",
       " 'RWA': 156,\n",
       " 'Risk weighted assets': 0,\n",
       " 'SIB': 1,\n",
       " 'Kasino-Kapitalismus': 0,\n",
       " 'Basel III': 89}"
      ]
     },
     "execution_count": 35,
     "metadata": {},
     "output_type": "execute_result"
    }
   ],
   "source": [
    "bank_dict='[Bb]ankengesetz|[Pp]fandbriefgesetz|[Kk]ollektivanlagegesetz|[Ff]inanzinstitutgesetz|[Ff]inIA|[Ff]inanzmarktinfrastrukturgesetz|[Ff]inanzdienstleistungsgesetz|[Ff]IDLEG|[Gg]eldwäschereigesetz|[Gg]eldwäscherei|[Ee]igenmittelverordnung|[Ff]INMA|[Ss]ystemrelevante Banken|[Ff]inanzmarktregulierung|[Ll]iquiditätsanforderungen|[Ll]iquiditätsausstattung|[Ll]iquiditätsverordnung|[Ll]iqV|[Tt]oo big to fail|[Bb]CBS|[Bb]asler Ausschuss für Bankenaufsicht|[Bb]ankeninsolvenz|[Vv]erschuldungsquote|[Ll]everage Ratio|[Rr]isikogewichtete Aktiven|[Cc]ET1|[Pp]ufferanforderungen|[Rr]WA|[Rr]isk weighted assets|[Ss]IB|[Kk]asino-Kapitalismus|[Bb]asel III'\n",
    "edu_dict='[Bb]ildungssystem|[Bb]ildungsrat|[Bb]ildungswesen|[Bb]ildungsausgaben|[Bb]ildungsförderung|[Ss]chulpflicht|[Ss]chulobligatorium|[Ll]ehrplan 21|[Dd]-EDK|[Ee]DK|[Bb]ildungsgesetz|[Ss]chulgesetz|[Gg]rundbildung|[Ss]onderschule|[Pp]ISA-Studie|[Pp]ISA Studie|[Vv]olksschulgesetz|[Bb]ildungsraum|[Ss]chulungsverantwortung|[Bb]ildungspflicht|[Ss]chulmodelle'\n",
    "edu_corpus=' '.join(busi[busi['edu']==1]['SubmittedText'].to_list()+trans[trans['edu']==1]['Text'].to_list())\n",
    "bank_corpus=' '.join(busi[busi['bank']==1]['SubmittedText'].to_list()+trans[trans['bank']==1]['Text'].to_list())\n",
    "par_bank_count=dict()\n",
    "par_edu_count=dict()\n",
    "for word in bank_dict.split('|'):\n",
    "    par_bank_count[word]=len(re.findall(word,bank_corpus))\n",
    "for word in edu_dict.split('|'):\n",
    "    par_edu_count[word]=len(re.findall(word,edu_corpus))\n",
    "par_edu_count1=par_edu_count.copy()\n",
    "for key in par_edu_count1.keys():\n",
    "    par_edu_count[key[1]+key[4:]]=par_edu_count[key]\n",
    "    del par_edu_count[key]\n",
    "par_edu_count['PISA-Studie']=par_edu_count['PISA-Studie']+par_edu_count['PISA Studie']\n",
    "del par_edu_count['PISA Studie']\n",
    "par_bank_count1=par_bank_count.copy()\n",
    "for key in par_bank_count1.keys():\n",
    "    par_bank_count[key[1]+key[4:]]=par_bank_count[key]\n",
    "    del par_bank_count[key]\n",
    "par_bank_count"
   ]
  },
  {
   "cell_type": "code",
   "execution_count": 95,
   "metadata": {},
   "outputs": [
    {
     "data": {
      "text/plain": [
       "{'Bildungssystem': 532,\n",
       " 'Bildungsrat': 1,\n",
       " 'Bildungswesen': 127,\n",
       " 'Bildungsausgaben': 48,\n",
       " 'Bildungsförderung': 21,\n",
       " 'Schulpflicht': 85,\n",
       " 'Schulobligatorium': 2,\n",
       " 'Lehrplan 21': 78,\n",
       " 'D-EDK': 0,\n",
       " 'EDK': 184,\n",
       " 'Bildungsgesetz': 509,\n",
       " 'Schulgesetz': 66,\n",
       " 'Grundbildung': 258,\n",
       " 'Sonderschule': 8,\n",
       " 'PISA-Studie': 2,\n",
       " 'Volksschulgesetz': 2,\n",
       " 'Bildungsraum': 101,\n",
       " 'Schulungsverantwortung': 0,\n",
       " 'Bildungspflicht': 34,\n",
       " 'Schulmodelle': 3}"
      ]
     },
     "execution_count": 95,
     "metadata": {},
     "output_type": "execute_result"
    }
   ],
   "source": [
    "par_edu_count"
   ]
  },
  {
   "cell_type": "code",
   "execution_count": 49,
   "metadata": {},
   "outputs": [
    {
     "data": {
      "text/plain": [
       "{'Bankengesetz': 245,\n",
       " 'Pfandbriefgesetz': 0,\n",
       " 'Kollektivanlagegesetz': 6,\n",
       " 'Finanzinstitutgesetz': 0,\n",
       " 'FinIA': 0,\n",
       " 'Finanzmarktinfrastrukturgesetz': 24,\n",
       " 'Finanzdienstleistungsgesetz': 90,\n",
       " 'FIDLEG': 516,\n",
       " 'Geldwäschereigesetz': 340,\n",
       " 'Geldwäscherei': 4122,\n",
       " 'Eigenmittelverordnung': 20,\n",
       " 'FINMA': 3192,\n",
       " 'Systemrelevante Banken': 138,\n",
       " 'Finanzmarktregulierung': 428,\n",
       " 'Liquiditätsanforderungen': 8,\n",
       " 'Liquiditätsausstattung': 7,\n",
       " 'Liquiditätsverordnung': 10,\n",
       " 'LiqV': 1,\n",
       " 'Too big to fail': 1210,\n",
       " 'BCBS': 21,\n",
       " 'Basler Ausschuss für Bankenaufsicht': 4,\n",
       " 'Bankeninsolvenz': 9,\n",
       " 'Verschuldungsquote': 73,\n",
       " 'Leverage Ratio': 77,\n",
       " 'Risikogewichtete Aktiven': 2,\n",
       " 'CET1': 12,\n",
       " 'Pufferanforderungen': 0,\n",
       " 'RWA': 177,\n",
       " 'Risk weighted assets': 0,\n",
       " 'SIB': 335,\n",
       " 'Kasino-Kapitalismus': 30,\n",
       " 'Basel III': 702}"
      ]
     },
     "execution_count": 49,
     "metadata": {},
     "output_type": "execute_result"
    }
   ],
   "source": [
    "edu=pd.read_csv('edu_final.csv')\n",
    "bank=pd.read_csv('bank_final.csv')\n",
    "bank_dict='[Bb]ankengesetz|[Pp]fandbriefgesetz|[Kk]ollektivanlagegesetz|[Ff]inanzinstitutgesetz|[Ff]inIA|[Ff]inanzmarktinfrastrukturgesetz|[Ff]inanzdienstleistungsgesetz|[Ff]IDLEG|[Gg]eldwäschereigesetz|[Gg]eldwäscherei|[Ee]igenmittelverordnung|[Ff]INMA|[Ss]ystemrelevante Banken|[Ff]inanzmarktregulierung|[Ll]iquiditätsanforderungen|[Ll]iquiditätsausstattung|[Ll]iquiditätsverordnung|[Ll]iqV|[Tt]oo big to fail|[Bb]CBS|[Bb]asler Ausschuss für Bankenaufsicht|[Bb]ankeninsolvenz|[Vv]erschuldungsquote|[Ll]everage Ratio|[Rr]isikogewichtete Aktiven|[Cc]ET1|[Pp]ufferanforderungen|[Rr]WA|[Rr]isk weighted assets|[Ss]IB|[Kk]asino-Kapitalismus|[Bb]asel III'\n",
    "edu_dict='[Bb]ildungssystem|[Bb]ildungsrat|[Bb]ildungswesen|[Bb]ildungsausgaben|[Bb]ildungsförderung|[Ss]chulpflicht|[Ss]chulobligatorium|[Ll]ehrplan 21|[Dd]-EDK|[Ee]DK|[Bb]ildungsgesetz|[Ss]chulgesetz|[Gg]rundbildung|[Ss]onderschule|[Pp]ISA-Studie|[Pp]ISA Studie|[Vv]olksschulgesetz|[Bb]ildungsraum|[Ss]chulungsverantwortung|[Bb]ildungspflicht|[Ss]chulmodelle'\n",
    "edu_corpus=' '.join(edu['text'].to_list())\n",
    "bank_corpus=' '.join(bank['text'].to_list())\n",
    "tw_bank_count=dict()\n",
    "tw_edu_count=dict()\n",
    "for word in bank_dict.split('|'):\n",
    "    tw_bank_count[word]=len(re.findall(word,bank_corpus))\n",
    "for word in edu_dict.split('|'):\n",
    "    tw_edu_count[word]=len(re.findall(word,edu_corpus))\n",
    "tw_edu_count1=tw_edu_count.copy()\n",
    "for key in tw_edu_count1.keys():\n",
    "    tw_edu_count[key[1]+key[4:]]=tw_edu_count[key]\n",
    "    del tw_edu_count[key]\n",
    "tw_edu_count['PISA-Studie']=tw_edu_count['PISA-Studie']+tw_edu_count['PISA Studie']\n",
    "del tw_edu_count['PISA Studie']\n",
    "tw_bank_count1=tw_bank_count.copy()\n",
    "for key in tw_bank_count1.keys():\n",
    "    tw_bank_count[key[1]+key[4:]]=tw_bank_count[key]\n",
    "    del tw_bank_count[key]\n",
    "tw_bank_count"
   ]
  },
  {
   "cell_type": "markdown",
   "metadata": {},
   "source": [
    "Word cloud generation"
   ]
  },
  {
   "cell_type": "code",
   "execution_count": 54,
   "metadata": {},
   "outputs": [
    {
     "name": "stdout",
     "output_type": "stream",
     "text": [
      "par_bank_count\n"
     ]
    }
   ],
   "source": [
    "names=['par_bank_count','par_edu_count','tw_bank_count','tw_edu_count']\n",
    "for index,count in enumerate([par_bank_count,par_edu_count,tw_bank_count,tw_edu_count]):\n",
    "    wc = WordCloud(background_color=\"white\",width=1000,height=1000, max_words=20,relative_scaling=0.3,normalize_plurals=False).generate_from_frequencies(count)\n",
    "    plt.figure(figsize = (10,10))\n",
    "    plt.axis('off')\n",
    "    plt.imshow(wc)\n",
    "    plt.savefig(f'{names[index]}.png', bbox_inches='tight')"
   ]
  },
  {
   "cell_type": "markdown",
   "metadata": {},
   "source": [
    "Creation of variables, correlation analysis"
   ]
  },
  {
   "cell_type": "code",
   "execution_count": 5,
   "metadata": {},
   "outputs": [
    {
     "name": "stdout",
     "output_type": "stream",
     "text": [
      "(-0.32463434542276337, 0.01004475460515537)\n",
      "(-0.28708629786360695, 0.023674564675432573)\n",
      "(0.09707648083070593, 0.4567151590578962)\n",
      "(0.110384431876718, 0.39705829968326406)\n"
     ]
    },
    {
     "name": "stderr",
     "output_type": "stream",
     "text": [
      "c:\\Users\\Startklar\\AppData\\Local\\Programs\\Python\\Python39\\lib\\site-packages\\IPython\\core\\interactiveshell.py:3444: UserWarning: Parsing '14/05/2022' in DD/MM/YYYY format. Provide format or specify infer_datetime_format=True for consistent parsing.\n",
      "  exec(code_obj, self.user_global_ns, self.user_ns)\n",
      "c:\\Users\\Startklar\\AppData\\Local\\Programs\\Python\\Python39\\lib\\site-packages\\IPython\\core\\interactiveshell.py:3444: UserWarning: Parsing '14/05/2022' in DD/MM/YYYY format. Provide format or specify infer_datetime_format=True for consistent parsing.\n",
      "  exec(code_obj, self.user_global_ns, self.user_ns)\n"
     ]
    }
   ],
   "source": [
    "busi=pd.read_csv('busi_re.csv',low_memory=False)\n",
    "trans=pd.read_csv('trans_re.csv',low_memory=False)\n",
    "sess=pd.read_csv('sessions.csv',encoding_errors='ignore')\n",
    "sess['StartDate']=pd.to_datetime(sess['StartDate'])\n",
    "edu=pd.read_csv('edu_final.csv')\n",
    "edu['created_at']=pd.to_datetime(edu['created_at'])\n",
    "bank=pd.read_csv('bank_final.csv')\n",
    "bank['created_at']=pd.to_datetime(bank['created_at'])\n",
    "bank=bank.groupby('created_at').count()['text']\n",
    "edu=edu.groupby('created_at').count()['text']\n",
    "edu=pd.merge(edu,pd.DataFrame(pd.date_range(start='1/1/2010', end='14/05/2022')),left_index=True,right_on=0,how='outer').sort_values(0).set_index(0).fillna(0)\n",
    "bank=pd.merge(bank,pd.DataFrame(pd.date_range(start='1/1/2010', end='14/05/2022')),left_index=True,right_on=0,how='outer').sort_values(0).set_index(0).fillna(0)\n",
    "busi=busi.groupby('SubmissionSession').agg({'edu':'sum','bank':'sum'})\n",
    "trans=trans.groupby('IdSession').agg({'edu':'sum','bank':'sum'})\n",
    "trans=pd.merge(trans,sess[['ID','StartDate']], left_index=True, right_on='ID', how='left')\n",
    "busi=pd.merge(busi,sess[['ID','StartDate']], left_index=True, right_on='ID', how='left')\n",
    "edu=edu.rolling(90,min_periods=1).sum()\n",
    "bank=bank.rolling(90,min_periods=1).sum()\n",
    "edu.rename(columns={'text':'tw_edu'},inplace=True)\n",
    "bank.rename(columns={'text':'tw_bank'},inplace=True)\n",
    "trans=pd.merge(trans,edu,left_on='StartDate',right_index=True,how='left')\n",
    "trans=pd.merge(trans,bank,left_on='StartDate',right_index=True,how='left')\n",
    "busi=pd.merge(busi,edu,left_on='StartDate',right_index=True,how='left')\n",
    "busi=pd.merge(busi,bank,left_on='StartDate',right_index=True,how='left')\n",
    "print(pearsonr(trans['edu'].fillna(0),trans['tw_edu'].fillna(0)))\n",
    "print(pearsonr(trans['bank'].fillna(0),trans['tw_bank'].fillna(0)))\n",
    "print(pearsonr(busi['edu'].fillna(0),busi['tw_edu'].fillna(0)))\n",
    "print(pearsonr(busi['bank'].fillna(0),busi['tw_bank'].fillna(0)))"
   ]
  },
  {
   "cell_type": "code",
   "execution_count": 15,
   "metadata": {},
   "outputs": [
    {
     "data": {
      "text/plain": [
       "<AxesSubplot:xlabel='StartDate'>"
      ]
     },
     "execution_count": 15,
     "metadata": {},
     "output_type": "execute_result"
    },
    {
     "data": {
      "image/png": "[encoded data removed]",
      "text/plain": [
       "<Figure size 432x288 with 1 Axes>"
      ]
     },
     "metadata": {
      "needs_background": "light"
     },
     "output_type": "display_data"
    }
   ],
   "source": [
    "pd.concat([busi,trans]).groupby('StartDate').sum()[['edu','bank']].plot()"
   ]
  },
  {
   "cell_type": "code",
   "execution_count": 183,
   "metadata": {},
   "outputs": [
    {
     "data": {
      "text/html": [
       "<div>\n",
       "<style scoped>\n",
       "    .dataframe tbody tr th:only-of-type {\n",
       "        vertical-align: middle;\n",
       "    }\n",
       "\n",
       "    .dataframe tbody tr th {\n",
       "        vertical-align: top;\n",
       "    }\n",
       "\n",
       "    .dataframe thead th {\n",
       "        text-align: right;\n",
       "    }\n",
       "</style>\n",
       "<table border=\"1\" class=\"dataframe\">\n",
       "  <thead>\n",
       "    <tr style=\"text-align: right;\">\n",
       "      <th></th>\n",
       "      <th>count</th>\n",
       "      <th>mean</th>\n",
       "      <th>std</th>\n",
       "      <th>min</th>\n",
       "      <th>25%</th>\n",
       "      <th>50%</th>\n",
       "      <th>75%</th>\n",
       "      <th>max</th>\n",
       "    </tr>\n",
       "  </thead>\n",
       "  <tbody>\n",
       "    <tr>\n",
       "      <th>edu</th>\n",
       "      <td>61.0</td>\n",
       "      <td>3.409836</td>\n",
       "      <td>2.479093</td>\n",
       "      <td>0.0</td>\n",
       "      <td>2.0</td>\n",
       "      <td>3.0</td>\n",
       "      <td>5.0</td>\n",
       "      <td>13.0</td>\n",
       "    </tr>\n",
       "    <tr>\n",
       "      <th>bank</th>\n",
       "      <td>61.0</td>\n",
       "      <td>4.655738</td>\n",
       "      <td>3.660079</td>\n",
       "      <td>0.0</td>\n",
       "      <td>2.0</td>\n",
       "      <td>4.0</td>\n",
       "      <td>7.0</td>\n",
       "      <td>17.0</td>\n",
       "    </tr>\n",
       "    <tr>\n",
       "      <th>ID</th>\n",
       "      <td>61.0</td>\n",
       "      <td>4974.377049</td>\n",
       "      <td>96.153205</td>\n",
       "      <td>4813.0</td>\n",
       "      <td>4908.0</td>\n",
       "      <td>5003.0</td>\n",
       "      <td>5018.0</td>\n",
       "      <td>5114.0</td>\n",
       "    </tr>\n",
       "    <tr>\n",
       "      <th>tw_edu</th>\n",
       "      <td>61.0</td>\n",
       "      <td>806.688525</td>\n",
       "      <td>699.584413</td>\n",
       "      <td>42.0</td>\n",
       "      <td>236.0</td>\n",
       "      <td>532.0</td>\n",
       "      <td>1294.0</td>\n",
       "      <td>3311.0</td>\n",
       "    </tr>\n",
       "    <tr>\n",
       "      <th>tw_bank</th>\n",
       "      <td>61.0</td>\n",
       "      <td>418.655738</td>\n",
       "      <td>175.808787</td>\n",
       "      <td>130.0</td>\n",
       "      <td>307.0</td>\n",
       "      <td>388.0</td>\n",
       "      <td>545.0</td>\n",
       "      <td>1101.0</td>\n",
       "    </tr>\n",
       "  </tbody>\n",
       "</table>\n",
       "</div>"
      ],
      "text/plain": [
       "         count         mean         std     min     25%     50%     75%  \\\n",
       "edu       61.0     3.409836    2.479093     0.0     2.0     3.0     5.0   \n",
       "bank      61.0     4.655738    3.660079     0.0     2.0     4.0     7.0   \n",
       "ID        61.0  4974.377049   96.153205  4813.0  4908.0  5003.0  5018.0   \n",
       "tw_edu    61.0   806.688525  699.584413    42.0   236.0   532.0  1294.0   \n",
       "tw_bank   61.0   418.655738  175.808787   130.0   307.0   388.0   545.0   \n",
       "\n",
       "            max  \n",
       "edu        13.0  \n",
       "bank       17.0  \n",
       "ID       5114.0  \n",
       "tw_edu   3311.0  \n",
       "tw_bank  1101.0  "
      ]
     },
     "execution_count": 183,
     "metadata": {},
     "output_type": "execute_result"
    }
   ],
   "source": [
    "busi.describe().T"
   ]
  },
  {
   "cell_type": "markdown",
   "metadata": {},
   "source": []
  },
  {
   "cell_type": "code",
   "execution_count": 140,
   "metadata": {},
   "outputs": [
    {
     "data": {
      "text/plain": [
       "<AxesSubplot:xlabel='created_at'>"
      ]
     },
     "execution_count": 140,
     "metadata": {},
     "output_type": "execute_result"
    },
    {
     "data": {
      "image/png": "[encoded data removed]",
      "text/plain": [
       "<Figure size 432x288 with 1 Axes>"
      ]
     },
     "metadata": {
      "needs_background": "light"
     },
     "output_type": "display_data"
    }
   ],
   "source": [
    "busi=pd.read_csv('busi_re.csv',low_memory=False)\n",
    "trans=pd.read_csv('trans_re.csv',low_memory=False)\n",
    "sess=pd.read_csv('sessions.csv',encoding_errors='ignore')\n",
    "sess['StartDate']=pd.to_datetime(sess['StartDate'])\n",
    "edu=pd.read_csv('edu_final.csv')\n",
    "edu['created_at']=pd.to_datetime(edu['created_at'])\n",
    "bank=pd.read_csv('bank_final.csv')\n",
    "bank['created_at']=pd.to_datetime(bank['created_at'])\n",
    "edu['created_at']=edu.apply(lambda x: x['created_at'].to_period('M'),axis=1)\n",
    "bank['created_at']=bank.apply(lambda x: x['created_at'].to_period('M'),axis=1)\n",
    "bank=bank.groupby('created_at').count()['text']\n",
    "edu=edu.groupby('created_at').count()['text']\n",
    "df=pd.merge(bank,edu,left_index=True,right_index=True)\n",
    "df.rename(columns={'text_x':'Banking regulation','text_y':'Education'},inplace=True)\n",
    "df.plot(figsize=(10,10))\n"
   ]
  },
  {
   "cell_type": "code",
   "execution_count": 147,
   "metadata": {},
   "outputs": [],
   "source": []
  },
  {
   "cell_type": "code",
   "execution_count": 20,
   "metadata": {},
   "outputs": [
    {
     "data": {
      "text/plain": [
       "'[Bb]ildungssystem|[Bb]ildungsrat|[Bb]ildungswesen|[Bb]ildungsausgaben|[Bb]ildungsförderung|[Ss]chulpflicht|[Ss]chulobligatorium|[Ll]ehrplan 21|[Dd]-EDK|[Ee]DK|[Bb]ildungsgesetz|[Ss]chulgesetz|[Gg]rundbildung|[Ss]onderschule|[Pp]ISA-Studie|[Pp]ISA Studie|[Vv]olksschulgesetz|[Bb]ildungsraum|[Ss]chulungsverantwortung|[Bb]ildungspflicht|[Ss]chulmodelle'"
      ]
     },
     "execution_count": 20,
     "metadata": {},
     "output_type": "execute_result"
    }
   ],
   "source": [
    "#convert to regex\n",
    "lst='Bildungssystem OR Bildungsrat OR Bildungswesen OR Bildungsausgaben OR Bildungsförderung OR Schulpflicht OR Schulobligatorium OR Lehrplan 21 OR D-EDK OR EDK OR Bildungsgesetz OR Schulgesetz OR Grundbildung OR Sonderschule OR PISA-Studie OR PISA Studie OR Volksschulgesetz OR Bildungsraum OR Schulungsverantwortung OR Bildungspflicht OR Schulmodelle'.split(' OR ')\n",
    "for i,x in enumerate(lst):\n",
    "    lst[i]='['+x[0].upper()+x[0].lower()+']'+x[1:]\n",
    "'|'.join(lst)\n"
   ]
  }
 ],
 "metadata": {
  "interpreter": {
   "hash": "c209f5bcd523c12eb07fb8b3529a9631b755109a2439f3b8ef0b7522b509ac81"
  },
  "kernelspec": {
   "display_name": "Python 3.9.7 64-bit",
   "language": "python",
   "name": "python3"
  },
  "language_info": {
   "codemirror_mode": {
    "name": "ipython",
    "version": 3
   },
   "file_extension": ".py",
   "mimetype": "text/x-python",
   "name": "python",
   "nbconvert_exporter": "python",
   "pygments_lexer": "ipython3",
   "version": "3.9.7"
  },
  "orig_nbformat": 4
 },
 "nbformat": 4,
 "nbformat_minor": 2
}
